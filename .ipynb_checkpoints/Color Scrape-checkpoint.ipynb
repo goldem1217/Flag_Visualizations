{
 "cells": [
  {
   "cell_type": "code",
   "execution_count": null,
   "metadata": {},
   "outputs": [],
   "source": [
    "import requests\n",
    "import urllib.request\n",
    "import time\n",
    "from bs4 import BeautifulSoup\n",
    "import pandas as pd"
   ]
  },
  {
   "cell_type": "code",
   "execution_count": null,
   "metadata": {},
   "outputs": [],
   "source": [
    "#Scrape Wikipedia list of flags by color"
   ]
  },
  {
   "cell_type": "code",
   "execution_count": null,
   "metadata": {},
   "outputs": [],
   "source": [
    "url = 'https://en.wikipedia.org/wiki/List_of_flags_by_color'\n",
    "response = requests.get(url)\n",
    "\n",
    "soup = BeautifulSoup(response.text, 'html.parser')"
   ]
  },
  {
   "cell_type": "code",
   "execution_count": null,
   "metadata": {},
   "outputs": [],
   "source": [
    "#locate list items for flags with black - trial and error to get the range correct, referring to the website\n",
    "\n",
    "black_flags = soup.findAll(\"a\")[19:167]"
   ]
  },
  {
   "cell_type": "code",
   "execution_count": null,
   "metadata": {},
   "outputs": [],
   "source": [
    "#loop through <a> tags in correct range and put the text into a list\n",
    "\n",
    "black_list = []\n",
    "line_count = 1\n",
    "number_range = range(21,168)\n",
    "\n",
    "for i in soup.findAll(\"a\"):\n",
    "    if line_count in number_range:\n",
    "        country = i.text\n",
    "        black_list.append(country)\n",
    "        time.sleep(1)\n",
    "    line_count +=1"
   ]
  },
  {
   "cell_type": "code",
   "execution_count": null,
   "metadata": {},
   "outputs": [],
   "source": [
    "#function to remove duplicates - will use for all colors\n",
    "\n",
    "def unduplicate(x):\n",
    "    return list(dict.fromkeys(x))"
   ]
  },
  {
   "cell_type": "code",
   "execution_count": null,
   "metadata": {},
   "outputs": [],
   "source": [
    "#remove duplicates from list of flags with black\n",
    "\n",
    "black_list = unduplicate(black_list)"
   ]
  },
  {
   "cell_type": "code",
   "execution_count": null,
   "metadata": {},
   "outputs": [],
   "source": [
    "#create dataframe with value \"Black\" as 1\n",
    "\n",
    "black_df = pd.DataFrame({\"Country\" : black_list, \"Black\" : 1 })"
   ]
  },
  {
   "cell_type": "code",
   "execution_count": null,
   "metadata": {},
   "outputs": [],
   "source": [
    "#remove \"Flag of \" string from Country column\n",
    "#remove \"the \" string as well\n",
    "\n",
    "black_df['Country'] = black_df['Country'].str.replace(r'Flag of ', '')\n",
    "black_df['Country'] = black_df['Country'].str.replace(r'the ', '')"
   ]
  },
  {
   "cell_type": "code",
   "execution_count": null,
   "metadata": {},
   "outputs": [],
   "source": [
    "#import csv with list of countries being used in project, create dataframe\n",
    "\n",
    "countries = \"static/data/country_flags.csv\"\n",
    "\n",
    "countries_df = pd.read_csv(countries)\n",
    "\n",
    "countries_df = countries_df.drop(columns=[\"Images File Name\",\"ImageURL\"])"
   ]
  },
  {
   "cell_type": "code",
   "execution_count": null,
   "metadata": {},
   "outputs": [],
   "source": [
    "#left merge the dataframes to get rid of random non-country flags.  Resulting dataframe will have total list of\n",
    "# countries; countries with black in their flags will have 1.0 in the black column, countries without black will have NaN.\n",
    "\n",
    "combo_df = pd.merge(countries_df, black_df, on=\"Country\", how=\"left\")\n",
    "\n",
    "combo_df.head()"
   ]
  },
  {
   "cell_type": "code",
   "execution_count": null,
   "metadata": {},
   "outputs": [],
   "source": [
    "#Brown flags! Repeat steps for black.\n",
    "\n",
    "#loop through <a> tags and put the text into a list\n",
    "\n",
    "brown_list = []\n",
    "line_count = 1\n",
    "number_range = range(170,200)\n",
    "\n",
    "for i in soup.findAll(\"a\"):\n",
    "    if line_count in number_range:\n",
    "        country = i.text\n",
    "        brown_list.append(country)\n",
    "        time.sleep(1)\n",
    "    line_count +=1"
   ]
  },
  {
   "cell_type": "code",
   "execution_count": null,
   "metadata": {},
   "outputs": [],
   "source": [
    "#remove duplicates\n",
    "brown_list = unduplicate(brown_list)\n",
    "\n",
    "#create dataframe with value \"Black\" as 1\n",
    "\n",
    "brown_df = pd.DataFrame({\"Country\" : brown_list, \"Brown\" : 1 })\n",
    "\n",
    "brown_df.head()\n",
    "\n",
    "#remove \"Flag of \" string from Country column\n",
    "\n",
    "brown_df['Country'] = brown_df['Country'].str.replace(r'Flag of ', '')\n",
    "brown_df['Country'] = brown_df['Country'].str.replace(r'the ', '')\n",
    "\n",
    "brown_df.head()\n",
    "\n",
    "#left merge the dataframes to get rid of random non-country flags\n",
    "\n",
    "combo_df = pd.merge(combo_df, brown_df, on=\"Country\", how=\"left\")\n",
    "\n",
    "combo_df.head()"
   ]
  },
  {
   "cell_type": "code",
   "execution_count": null,
   "metadata": {},
   "outputs": [],
   "source": [
    "blue_list = []\n",
    "line_count = 1\n",
    "number_range = range(201,448)\n",
    "\n",
    "for i in soup.findAll(\"a\"):\n",
    "    if line_count in number_range:\n",
    "        country = i.text\n",
    "        blue_list.append(country)\n",
    "        time.sleep(1)\n",
    "    line_count +=1"
   ]
  },
  {
   "cell_type": "code",
   "execution_count": null,
   "metadata": {},
   "outputs": [],
   "source": [
    "blue_list = unduplicate(blue_list)\n",
    "\n",
    "blue_df = pd.DataFrame({\"Country\" : blue_list, \"Blue\" : 1 })\n",
    "\n",
    "blue_df['Country'] = blue_df['Country'].str.replace(r'Flag of ', '')\n",
    "blue_df['Country'] = blue_df['Country'].str.replace(r'the ', '')\n",
    "\n",
    "combo_df = pd.merge(combo_df, blue_df, on=\"Country\", how=\"left\")\n",
    "\n",
    "combo_df.head()"
   ]
  },
  {
   "cell_type": "code",
   "execution_count": null,
   "metadata": {},
   "outputs": [],
   "source": [
    "yellow_list = []\n",
    "line_count = 1\n",
    "number_range = range(452,666)\n",
    "\n",
    "for i in soup.findAll(\"a\"):\n",
    "    if line_count in number_range:\n",
    "        country = i.text\n",
    "        yellow_list.append(country)\n",
    "        time.sleep(1)\n",
    "    line_count +=1"
   ]
  },
  {
   "cell_type": "code",
   "execution_count": null,
   "metadata": {},
   "outputs": [],
   "source": [
    "yellow_list = unduplicate(yellow_list)\n",
    "\n",
    "yellow_df = pd.DataFrame({\"Country\" : yellow_list, \"Yellow\" : 1 })\n",
    "\n",
    "yellow_df['Country'] = yellow_df['Country'].str.replace(r'Flag of ', '')\n",
    "yellow_df['Country'] = yellow_df['Country'].str.replace(r'the ', '')\n",
    "\n",
    "combo_df = pd.merge(combo_df, yellow_df, on=\"Country\", how=\"left\")\n",
    "\n",
    "combo_df.head()"
   ]
  },
  {
   "cell_type": "code",
   "execution_count": null,
   "metadata": {},
   "outputs": [],
   "source": [
    "green_list = []\n",
    "line_count = 1\n",
    "number_range = range(670,838)\n",
    "\n",
    "for i in soup.findAll(\"a\"):\n",
    "    if line_count in number_range:\n",
    "        country = i.text\n",
    "        green_list.append(country)\n",
    "        time.sleep(1)\n",
    "    line_count +=1"
   ]
  },
  {
   "cell_type": "code",
   "execution_count": null,
   "metadata": {},
   "outputs": [],
   "source": [
    "green_list = unduplicate(green_list)\n",
    "\n",
    "green_df = pd.DataFrame({\"Country\" : green_list, \"Green\" : 1 })\n",
    "\n",
    "green_df['Country'] = green_df['Country'].str.replace(r'Flag of ', '')\n",
    "green_df['Country'] = green_df['Country'].str.replace(r'the ', '')\n",
    "\n",
    "combo_df = pd.merge(combo_df, green_df, on=\"Country\", how=\"left\")\n",
    "\n",
    "combo_df.head()"
   ]
  },
  {
   "cell_type": "code",
   "execution_count": null,
   "metadata": {},
   "outputs": [],
   "source": [
    "maroon_list = []\n",
    "line_count = 1\n",
    "number_range = range(839,852)\n",
    "\n",
    "for i in soup.findAll(\"a\"):\n",
    "    if line_count in number_range:\n",
    "        country = i.text\n",
    "        maroon_list.append(country)\n",
    "        time.sleep(1)\n",
    "    line_count +=1"
   ]
  },
  {
   "cell_type": "code",
   "execution_count": null,
   "metadata": {},
   "outputs": [],
   "source": [
    "maroon_list = unduplicate(maroon_list)\n",
    "\n",
    "maroon_df = pd.DataFrame({\"Country\" : maroon_list, \"Maroon\" : 1 })\n",
    "\n",
    "maroon_df['Country'] = maroon_df['Country'].str.replace(r'Flag of ', '')\n",
    "maroon_df['Country'] = maroon_df['Country'].str.replace(r'the ', '')\n",
    "\n",
    "combo_df = pd.merge(combo_df, maroon_df, on=\"Country\", how=\"left\")\n",
    "\n",
    "combo_df.head()"
   ]
  },
  {
   "cell_type": "code",
   "execution_count": null,
   "metadata": {},
   "outputs": [],
   "source": [
    "orange_list = []\n",
    "line_count = 1\n",
    "number_range = range(855,891)\n",
    "\n",
    "for i in soup.findAll(\"a\"):\n",
    "    if line_count in number_range:\n",
    "        country = i.text\n",
    "        orange_list.append(country)\n",
    "        time.sleep(1)\n",
    "    line_count +=1"
   ]
  },
  {
   "cell_type": "code",
   "execution_count": null,
   "metadata": {},
   "outputs": [],
   "source": [
    "orange_list = unduplicate(orange_list)\n",
    "\n",
    "orange_df = pd.DataFrame({\"Country\" : orange_list, \"Orange\" : 1 })\n",
    "\n",
    "orange_df['Country'] = orange_df['Country'].str.replace(r'Flag of ', '')\n",
    "orange_df['Country'] = orange_df['Country'].str.replace(r'the ', '')\n",
    "\n",
    "combo_df = pd.merge(combo_df, orange_df, on=\"Country\", how=\"left\")\n",
    "\n",
    "combo_df.head()"
   ]
  },
  {
   "cell_type": "code",
   "execution_count": null,
   "metadata": {},
   "outputs": [],
   "source": [
    "pink_list = []\n",
    "line_count = 1\n",
    "number_range = range(892,900)\n",
    "\n",
    "for i in soup.findAll(\"a\"):\n",
    "    if line_count in number_range:\n",
    "        country = i.text\n",
    "        pink_list.append(country)\n",
    "        time.sleep(1)\n",
    "    line_count +=1"
   ]
  },
  {
   "cell_type": "code",
   "execution_count": null,
   "metadata": {},
   "outputs": [],
   "source": [
    "pink_list = unduplicate(pink_list)\n",
    "\n",
    "pink_df = pd.DataFrame({\"Country\" : pink_list, \"Pink\" : 1 })\n",
    "\n",
    "pink_df['Country'] = pink_df['Country'].str.replace(r'Flag of ', '')\n",
    "pink_df['Country'] = pink_df['Country'].str.replace(r'the ', '')\n",
    "\n",
    "combo_df = pd.merge(combo_df, pink_df, on=\"Country\", how=\"left\")\n",
    "\n",
    "combo_df.head()"
   ]
  },
  {
   "cell_type": "code",
   "execution_count": null,
   "metadata": {},
   "outputs": [],
   "source": [
    "purple_list = []\n",
    "line_count = 1\n",
    "number_range = range(902,920)\n",
    "\n",
    "for i in soup.findAll(\"a\"):\n",
    "    if line_count in number_range:\n",
    "        country = i.text\n",
    "        purple_list.append(country)\n",
    "        time.sleep(1)\n",
    "    line_count +=1"
   ]
  },
  {
   "cell_type": "code",
   "execution_count": null,
   "metadata": {},
   "outputs": [],
   "source": [
    "purple_list = unduplicate(purple_list)\n",
    "\n",
    "purple_df = pd.DataFrame({\"Country\" : purple_list, \"Purple\" : 1 })\n",
    "\n",
    "purple_df['Country'] = purple_df['Country'].str.replace(r'Flag of ', '')\n",
    "purple_df['Country'] = purple_df['Country'].str.replace(r'the ', '')\n",
    "\n",
    "combo_df = pd.merge(combo_df, purple_df, on=\"Country\", how=\"left\")\n",
    "\n",
    "combo_df.head()"
   ]
  },
  {
   "cell_type": "code",
   "execution_count": null,
   "metadata": {},
   "outputs": [],
   "source": [
    "red_list = []\n",
    "line_count = 1\n",
    "number_range = range(922,1290)\n",
    "\n",
    "for i in soup.findAll(\"a\"):\n",
    "    if line_count in number_range:\n",
    "        country = i.text\n",
    "        red_list.append(country)\n",
    "        time.sleep(.25)\n",
    "    line_count +=1"
   ]
  },
  {
   "cell_type": "code",
   "execution_count": null,
   "metadata": {},
   "outputs": [],
   "source": [
    "red_list = unduplicate(red_list)\n",
    "\n",
    "red_df = pd.DataFrame({\"Country\" : red_list, \"Red\" : 1 })\n",
    "\n",
    "red_df['Country'] = red_df['Country'].str.replace(r'Flag of ', '')\n",
    "red_df['Country'] = red_df['Country'].str.replace(r'the ', '')\n",
    "\n",
    "combo_df = pd.merge(combo_df, red_df, on=\"Country\", how=\"left\")\n",
    "\n",
    "combo_df.head()"
   ]
  },
  {
   "cell_type": "code",
   "execution_count": null,
   "metadata": {},
   "outputs": [],
   "source": [
    "white_list = []\n",
    "line_count = 1\n",
    "number_range = range(1290,1701)\n",
    "\n",
    "for i in soup.findAll(\"a\"):\n",
    "    if line_count in number_range:\n",
    "        country = i.text\n",
    "        white_list.append(country)\n",
    "        time.sleep(.25)\n",
    "    line_count +=1"
   ]
  },
  {
   "cell_type": "code",
   "execution_count": null,
   "metadata": {},
   "outputs": [],
   "source": [
    "white_list = unduplicate(white_list)\n",
    "\n",
    "white_df = pd.DataFrame({\"Country\" : white_list, \"White\" : 1 })\n",
    "\n",
    "white_df['Country'] = white_df['Country'].str.replace(r'Flag of ', '')\n",
    "white_df['Country'] = white_df['Country'].str.replace(r'the ', '')\n",
    "\n",
    "combo_df = pd.merge(combo_df, white_df, on=\"Country\", how=\"left\")\n",
    "\n",
    "combo_df.head()"
   ]
  },
  {
   "cell_type": "code",
   "execution_count": null,
   "metadata": {},
   "outputs": [],
   "source": [
    "#replace NaN with '0'\n",
    "\n",
    "combo_df = combo_df.fillna(0)\n",
    "\n",
    "combo_df.head()"
   ]
  },
  {
   "cell_type": "code",
   "execution_count": null,
   "metadata": {},
   "outputs": [],
   "source": [
    "combo_df.to_csv(\"static/data/flag_colors.csv\")"
   ]
  },
  {
   "cell_type": "code",
   "execution_count": null,
   "metadata": {},
   "outputs": [],
   "source": []
  }
 ],
 "metadata": {
  "kernelspec": {
   "display_name": "Python 3",
   "language": "python",
   "name": "python3"
  },
  "language_info": {
   "codemirror_mode": {
    "name": "ipython",
    "version": 3
   },
   "file_extension": ".py",
   "mimetype": "text/x-python",
   "name": "python",
   "nbconvert_exporter": "python",
   "pygments_lexer": "ipython3",
   "version": "3.7.3"
  }
 },
 "nbformat": 4,
 "nbformat_minor": 2
}
