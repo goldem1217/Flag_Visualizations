{
 "cells": [
  {
   "cell_type": "code",
   "execution_count": 1,
   "metadata": {},
   "outputs": [],
   "source": [
    "import pandas as pd\n",
    "import matplotlib.pyplot as plt\n",
    "%matplotlib inline"
   ]
  },
  {
   "cell_type": "code",
   "execution_count": 2,
   "metadata": {},
   "outputs": [
    {
     "data": {
      "text/html": [
       "<div>\n",
       "<style scoped>\n",
       "    .dataframe tbody tr th:only-of-type {\n",
       "        vertical-align: middle;\n",
       "    }\n",
       "\n",
       "    .dataframe tbody tr th {\n",
       "        vertical-align: top;\n",
       "    }\n",
       "\n",
       "    .dataframe thead th {\n",
       "        text-align: right;\n",
       "    }\n",
       "</style>\n",
       "<table border=\"1\" class=\"dataframe\">\n",
       "  <thead>\n",
       "    <tr style=\"text-align: right;\">\n",
       "      <th></th>\n",
       "      <th>Country</th>\n",
       "      <th>Region</th>\n",
       "      <th>Population</th>\n",
       "      <th>Area (sq. mi.)</th>\n",
       "      <th>GDP ($ per capita)</th>\n",
       "      <th>Code</th>\n",
       "      <th>URL</th>\n",
       "      <th>Black</th>\n",
       "      <th>Brown</th>\n",
       "      <th>Blue</th>\n",
       "      <th>Yellow</th>\n",
       "      <th>Green</th>\n",
       "      <th>Maroon</th>\n",
       "      <th>Orange</th>\n",
       "      <th>Pink</th>\n",
       "      <th>Purple</th>\n",
       "      <th>Red</th>\n",
       "      <th>White</th>\n",
       "    </tr>\n",
       "  </thead>\n",
       "  <tbody>\n",
       "    <tr>\n",
       "      <th>0</th>\n",
       "      <td>Afghanistan</td>\n",
       "      <td>Asia</td>\n",
       "      <td>31056997</td>\n",
       "      <td>647500.0</td>\n",
       "      <td>700.0</td>\n",
       "      <td>af</td>\n",
       "      <td>/static/images/af.svg</td>\n",
       "      <td>1.0</td>\n",
       "      <td>0.0</td>\n",
       "      <td>0.0</td>\n",
       "      <td>0.0</td>\n",
       "      <td>1.0</td>\n",
       "      <td>0.0</td>\n",
       "      <td>0.0</td>\n",
       "      <td>0.0</td>\n",
       "      <td>0.0</td>\n",
       "      <td>1.0</td>\n",
       "      <td>0.0</td>\n",
       "    </tr>\n",
       "    <tr>\n",
       "      <th>1</th>\n",
       "      <td>Albania</td>\n",
       "      <td>Europe</td>\n",
       "      <td>3581655</td>\n",
       "      <td>28748.0</td>\n",
       "      <td>4500.0</td>\n",
       "      <td>al</td>\n",
       "      <td>/static/images/al.svg</td>\n",
       "      <td>1.0</td>\n",
       "      <td>0.0</td>\n",
       "      <td>0.0</td>\n",
       "      <td>0.0</td>\n",
       "      <td>0.0</td>\n",
       "      <td>0.0</td>\n",
       "      <td>0.0</td>\n",
       "      <td>0.0</td>\n",
       "      <td>0.0</td>\n",
       "      <td>1.0</td>\n",
       "      <td>0.0</td>\n",
       "    </tr>\n",
       "    <tr>\n",
       "      <th>2</th>\n",
       "      <td>Algeria</td>\n",
       "      <td>Africa</td>\n",
       "      <td>32930091</td>\n",
       "      <td>2381740.0</td>\n",
       "      <td>6000.0</td>\n",
       "      <td>dz</td>\n",
       "      <td>/static/images/dz.svg</td>\n",
       "      <td>0.0</td>\n",
       "      <td>0.0</td>\n",
       "      <td>0.0</td>\n",
       "      <td>0.0</td>\n",
       "      <td>1.0</td>\n",
       "      <td>0.0</td>\n",
       "      <td>0.0</td>\n",
       "      <td>0.0</td>\n",
       "      <td>0.0</td>\n",
       "      <td>1.0</td>\n",
       "      <td>1.0</td>\n",
       "    </tr>\n",
       "    <tr>\n",
       "      <th>3</th>\n",
       "      <td>American Samoa</td>\n",
       "      <td>Oceania</td>\n",
       "      <td>57794</td>\n",
       "      <td>199.0</td>\n",
       "      <td>8000.0</td>\n",
       "      <td>as</td>\n",
       "      <td>/static/images/as.svg</td>\n",
       "      <td>0.0</td>\n",
       "      <td>0.0</td>\n",
       "      <td>1.0</td>\n",
       "      <td>0.0</td>\n",
       "      <td>0.0</td>\n",
       "      <td>0.0</td>\n",
       "      <td>0.0</td>\n",
       "      <td>0.0</td>\n",
       "      <td>0.0</td>\n",
       "      <td>1.0</td>\n",
       "      <td>1.0</td>\n",
       "    </tr>\n",
       "    <tr>\n",
       "      <th>4</th>\n",
       "      <td>Andorra</td>\n",
       "      <td>Europe</td>\n",
       "      <td>71201</td>\n",
       "      <td>468.0</td>\n",
       "      <td>19000.0</td>\n",
       "      <td>ad</td>\n",
       "      <td>/static/images/ad.svg</td>\n",
       "      <td>0.0</td>\n",
       "      <td>1.0</td>\n",
       "      <td>1.0</td>\n",
       "      <td>1.0</td>\n",
       "      <td>0.0</td>\n",
       "      <td>0.0</td>\n",
       "      <td>0.0</td>\n",
       "      <td>0.0</td>\n",
       "      <td>0.0</td>\n",
       "      <td>1.0</td>\n",
       "      <td>1.0</td>\n",
       "    </tr>\n",
       "  </tbody>\n",
       "</table>\n",
       "</div>"
      ],
      "text/plain": [
       "          Country   Region  Population  Area (sq. mi.)  GDP ($ per capita)  \\\n",
       "0     Afghanistan     Asia    31056997        647500.0               700.0   \n",
       "1         Albania   Europe     3581655         28748.0              4500.0   \n",
       "2         Algeria   Africa    32930091       2381740.0              6000.0   \n",
       "3  American Samoa  Oceania       57794           199.0              8000.0   \n",
       "4         Andorra   Europe       71201           468.0             19000.0   \n",
       "\n",
       "  Code                    URL  Black  Brown  Blue  Yellow  Green  Maroon  \\\n",
       "0   af  /static/images/af.svg    1.0    0.0   0.0     0.0    1.0     0.0   \n",
       "1   al  /static/images/al.svg    1.0    0.0   0.0     0.0    0.0     0.0   \n",
       "2   dz  /static/images/dz.svg    0.0    0.0   0.0     0.0    1.0     0.0   \n",
       "3   as  /static/images/as.svg    0.0    0.0   1.0     0.0    0.0     0.0   \n",
       "4   ad  /static/images/ad.svg    0.0    1.0   1.0     1.0    0.0     0.0   \n",
       "\n",
       "   Orange  Pink  Purple  Red  White  \n",
       "0     0.0   0.0     0.0  1.0    0.0  \n",
       "1     0.0   0.0     0.0  1.0    0.0  \n",
       "2     0.0   0.0     0.0  1.0    1.0  \n",
       "3     0.0   0.0     0.0  1.0    1.0  \n",
       "4     0.0   0.0     0.0  1.0    1.0  "
      ]
     },
     "execution_count": 2,
     "metadata": {},
     "output_type": "execute_result"
    }
   ],
   "source": [
    "data = \"static/data/combined_data.csv\"\n",
    "\n",
    "df = pd.read_csv(data)\n",
    "\n",
    "df = df.drop(columns=(\"Unnamed: 0\"))\n",
    "\n",
    "df = df.dropna()\n",
    "\n",
    "df.head()"
   ]
  },
  {
   "cell_type": "code",
   "execution_count": 3,
   "metadata": {},
   "outputs": [
    {
     "data": {
      "text/plain": [
       "16.0"
      ]
     },
     "execution_count": 3,
     "metadata": {},
     "output_type": "execute_result"
    }
   ],
   "source": [
    "count = sum(df[\"Brown\"])\n",
    "\n",
    "count"
   ]
  },
  {
   "cell_type": "code",
   "execution_count": 4,
   "metadata": {},
   "outputs": [
    {
     "data": {
      "text/plain": [
       "['Black',\n",
       " 'Brown',\n",
       " 'Blue',\n",
       " 'Yellow',\n",
       " 'Green',\n",
       " 'Maroon',\n",
       " 'Orange',\n",
       " 'Pink',\n",
       " 'Purple',\n",
       " 'Red',\n",
       " 'White']"
      ]
     },
     "execution_count": 4,
     "metadata": {},
     "output_type": "execute_result"
    }
   ],
   "source": [
    "#Black\tBrown\tBlue\tYellow\tGreen\tMaroon\tOrange\tPink\tPurple\tRed\tWhite\n",
    "\n",
    "x = [\"Black\",\"Brown\",\"Blue\",\"Yellow\",\"Green\",\"Maroon\",\"Orange\",\"Pink\",\"Purple\",\"Red\",\"White\"]\n",
    "\n",
    "x"
   ]
  },
  {
   "cell_type": "code",
   "execution_count": 5,
   "metadata": {},
   "outputs": [
    {
     "data": {
      "text/plain": [
       "[72.0, 16.0, 76.0, 59.0, 96.0, 3.0, 11.0, 2.0, 2.0, 167.0, 164.0]"
      ]
     },
     "execution_count": 5,
     "metadata": {},
     "output_type": "execute_result"
    }
   ],
   "source": [
    "y = [sum(df[\"Black\"]), sum(df[\"Brown\"]), sum(df[\"Blue\"]), sum(df[\"Yellow\"]),\n",
    "     sum(df[\"Green\"]), sum(df[\"Maroon\"]), sum(df[\"Orange\"]), sum(df[\"Pink\"]), \n",
    "     sum(df[\"Purple\"]), sum(df[\"Red\"]), sum(df[\"White\"])]\n",
    "\n",
    "y"
   ]
  },
  {
   "cell_type": "code",
   "execution_count": 14,
   "metadata": {},
   "outputs": [
    {
     "data": {
      "image/png": "[encoded data removed]",
      "text/plain": [
       "<Figure size 432x288 with 1 Axes>"
      ]
     },
     "metadata": {
      "needs_background": "light"
     },
     "output_type": "display_data"
    }
   ],
   "source": [
    "x_pos = [i*3 for i, _ in enumerate(x)]\n",
    "\n",
    "plt.bar(x_pos, y, color='black')\n",
    "plt.xlabel(\"Color\")\n",
    "plt.ylabel(\"Number of Flags\")\n",
    "plt.title(\"Total Flags Using Each Color\")\n",
    "\n",
    "plt.xticks(x_pos, x, rotation=45)\n",
    "\n",
    "plt.tight_layout()\n",
    "\n",
    "plt.savefig(\"static/plots/plot1.png\")\n",
    "\n",
    "plt.show()"
   ]
  },
  {
   "cell_type": "code",
   "execution_count": null,
   "metadata": {},
   "outputs": [],
   "source": []
  },
  {
   "cell_type": "code",
   "execution_count": null,
   "metadata": {},
   "outputs": [],
   "source": []
  }
 ],
 "metadata": {
  "kernelspec": {
   "display_name": "Python 3",
   "language": "python",
   "name": "python3"
  },
  "language_info": {
   "codemirror_mode": {
    "name": "ipython",
    "version": 3
   },
   "file_extension": ".py",
   "mimetype": "text/x-python",
   "name": "python",
   "nbconvert_exporter": "python",
   "pygments_lexer": "ipython3",
   "version": "3.7.3"
  }
 },
 "nbformat": 4,
 "nbformat_minor": 2
}
